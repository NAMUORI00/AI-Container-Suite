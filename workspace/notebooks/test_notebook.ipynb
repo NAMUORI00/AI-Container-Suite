{
 "cells": [
  {
   "cell_type": "markdown",
   "id": "88661937",
   "metadata": {},
   "source": [
    "# 테스트용 Jupyter 노트북\n",
    "\n",
    "이 노트북은 테스트 목적으로 작성된 예제 노트북입니다."
   ]
  },
  {
   "cell_type": "markdown",
   "id": "0baa0818",
   "metadata": {},
   "source": [
    "## 필요한 라이브러리 임포트\n",
    "\n",
    "테스트에 필요한 라이브러리(numpy, matplotlib, pytest)를 임포트합니다."
   ]
  },
  {
   "cell_type": "code",
   "execution_count": null,
   "id": "ca1a4a2f",
   "metadata": {},
   "outputs": [],
   "source": [
    "# 필요한 라이브러리 임포트\n",
    "import numpy as np\n",
    "import matplotlib.pyplot as plt\n",
    "import pytest\n",
    "\n",
    "print(\"라이브러리 임포트 완료!\")"
   ]
  },
  {
   "cell_type": "markdown",
   "id": "1a97a16c",
   "metadata": {},
   "source": [
    "## 테스트 데이터 생성\n",
    "\n",
    "numpy를 사용하여 테스트에 사용할 샘플 데이터를 생성합니다."
   ]
  },
  {
   "cell_type": "code",
   "execution_count": null,
   "id": "4e6b5e0d",
   "metadata": {},
   "outputs": [],
   "source": [
    "# 테스트 데이터 생성\n",
    "np.random.seed(42)  # 재현성을 위한 시드 설정\n",
    "\n",
    "# 정규 분포를 따르는 데이터 생성\n",
    "data = np.random.normal(0, 1, 1000)\n",
    "\n",
    "# 데이터 기본 통계\n",
    "print(f\"데이터 개수: {len(data)}\")\n",
    "print(f\"평균: {np.mean(data):.4f}\")\n",
    "print(f\"표준편차: {np.std(data):.4f}\")\n",
    "print(f\"최소값: {np.min(data):.4f}\")\n",
    "print(f\"최대값: {np.max(data):.4f}\")"
   ]
  },
  {
   "cell_type": "markdown",
   "id": "7be79943",
   "metadata": {},
   "source": [
    "## 간단한 데이터 시각화\n",
    "\n",
    "matplotlib를 사용하여 생성된 데이터를 시각화합니다."
   ]
  },
  {
   "cell_type": "code",
   "execution_count": null,
   "id": "c0225fd5",
   "metadata": {},
   "outputs": [],
   "source": [
    "# 데이터 시각화\n",
    "plt.figure(figsize=(10, 6))\n",
    "\n",
    "# 히스토그램\n",
    "plt.hist(data, bins=30, alpha=0.7, color='skyblue', edgecolor='black')\n",
    "plt.title('정규 분포 데이터 히스토그램')\n",
    "plt.xlabel('값')\n",
    "plt.ylabel('빈도')\n",
    "plt.grid(alpha=0.3)\n",
    "plt.show()\n",
    "\n",
    "# 박스 플롯\n",
    "plt.figure(figsize=(8, 4))\n",
    "plt.boxplot(data, vert=False, patch_artist=True, boxprops=dict(facecolor='lightgreen'))\n",
    "plt.title('데이터 박스 플롯')\n",
    "plt.grid(alpha=0.3)\n",
    "plt.show()"
   ]
  },
  {
   "cell_type": "markdown",
   "id": "d9fdb534",
   "metadata": {},
   "source": [
    "## 테스트 함수 작성\n",
    "\n",
    "pytest를 사용하여 간단한 테스트 함수를 작성합니다."
   ]
  },
  {
   "cell_type": "code",
   "execution_count": null,
   "id": "425d8d77",
   "metadata": {},
   "outputs": [],
   "source": [
    "# 테스트할 함수 정의\n",
    "def add(a, b):\n",
    "    \"\"\"두 숫자를 더하는 함수\"\"\"\n",
    "    return a + b\n",
    "\n",
    "def multiply(a, b):\n",
    "    \"\"\"두 숫자를 곱하는 함수\"\"\"\n",
    "    return a * b\n",
    "\n",
    "# pytest를 사용한 테스트 함수\n",
    "def test_add():\n",
    "    \"\"\"add 함수 테스트\"\"\"\n",
    "    assert add(2, 3) == 5\n",
    "    assert add(-1, 1) == 0\n",
    "    assert add(0, 0) == 0\n",
    "\n",
    "def test_multiply():\n",
    "    \"\"\"multiply 함수 테스트\"\"\"\n",
    "    assert multiply(2, 3) == 6\n",
    "    assert multiply(-1, 1) == -1\n",
    "    assert multiply(0, 5) == 0"
   ]
  },
  {
   "cell_type": "markdown",
   "id": "6f76728f",
   "metadata": {},
   "source": [
    "## 테스트 실행\n",
    "\n",
    "테스트 함수를 실행하고 결과를 출력합니다."
   ]
  },
  {
   "cell_type": "code",
   "execution_count": null,
   "id": "60308212",
   "metadata": {},
   "outputs": [],
   "source": [
    "# Jupyter 환경에서 테스트 실행\n",
    "# (일반적으로 pytest는 명령줄에서 실행하지만, 여기서는 노트북 내에서 실행하는 방법을 보여줍니다)\n",
    "\n",
    "def run_test(test_func):\n",
    "    \"\"\"테스트 함수를 실행하고 결과를 출력합니다.\"\"\"\n",
    "    try:\n",
    "        test_func()\n",
    "        return True\n",
    "    except AssertionError as e:\n",
    "        print(f\"테스트 실패: {e}\")\n",
    "        return False\n",
    "\n",
    "# 테스트 실행\n",
    "results = {\n",
    "    \"test_add\": run_test(test_add),\n",
    "    \"test_multiply\": run_test(test_multiply)\n",
    "}\n",
    "\n",
    "# 결과 출력\n",
    "for test_name, passed in results.items():\n",
    "    status = \"통과\" if passed else \"실패\"\n",
    "    print(f\"{test_name}: {status}\")"
   ]
  },
  {
   "cell_type": "markdown",
   "id": "86f1c954",
   "metadata": {},
   "source": [
    "## 결론\n",
    "\n",
    "이 노트북에서는 다음 작업을 수행했습니다:\n",
    "1. 필요한 라이브러리 임포트\n",
    "2. 테스트 데이터 생성\n",
    "3. 데이터 시각화\n",
    "4. 테스트 함수 작성\n",
    "5. 테스트 실행\n",
    "\n",
    "이 테스트 노트북은 앞으로 더 복잡한 테스트와 데이터 분석을 위한 기반으로 활용할 수 있습니다."
   ]
  }
 ],
 "metadata": {
  "language_info": {
   "name": "python"
  }
 },
 "nbformat": 4,
 "nbformat_minor": 5
}
